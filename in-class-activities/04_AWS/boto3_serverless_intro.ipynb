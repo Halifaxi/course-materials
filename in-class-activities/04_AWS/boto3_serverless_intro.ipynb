{
 "cells": [
  {
   "cell_type": "markdown",
   "id": "2f00d587",
   "metadata": {},
   "source": [
    "## Introduction to Boto3 and AWS Serverless Solutions\n",
    "\n",
    "Let's say that we wanted to detect objects in an image, extract text from images, or perform sentiment analysis on a text. We could write and train our own classifiers, run our classifier on a server (e.g. an EC2 instance) and use this to make predictions. This requires a lot of time and energy in selecting the appropriate hardware, software, techniques, etc. necessary to perform these operations.\n",
    "\n",
    "For this reason, all the major cloud providers offer serverless \"functions as a service\" which are pre-trained/coded models that you simply need to provide data to and you will receive a response. Your cloud provider (e.g. AWS) will spin up the compute instances necessary to actually run the code. \n",
    "\n",
    "You can access all of these through the AWS Console, but it is easier to integrate them into your existing code via the Boto3 SDK."
   ]
  },
  {
   "cell_type": "code",
   "execution_count": 1,
   "id": "ba93331b",
   "metadata": {},
   "outputs": [],
   "source": [
    "import boto3\n",
    "import json\n",
    "import time\n",
    "import requests\n",
    "from concurrent.futures import ThreadPoolExecutor\n",
    "import matplotlib.pyplot as plt"
   ]
  },
  {
   "cell_type": "markdown",
   "id": "2168eac2",
   "metadata": {},
   "source": [
    "For instance, we can interact with AWS' image recognition functions like so:"
   ]
  },
  {
   "cell_type": "code",
   "execution_count": 2,
   "id": "d58af98f",
   "metadata": {},
   "outputs": [],
   "source": [
    "rekog = boto3.client('rekognition')"
   ]
  },
  {
   "cell_type": "code",
   "execution_count": 3,
   "id": "7840ef38",
   "metadata": {},
   "outputs": [
    {
     "data": {
      "text/plain": [
       "[('Person', 99.89472198486328),\n",
       " ('Human', 99.89472198486328),\n",
       " ('Outdoors', 94.6645278930664),\n",
       " ('Road', 94.50630187988281),\n",
       " ('Path', 94.26421356201172)]"
      ]
     },
     "execution_count": 3,
     "metadata": {},
     "output_type": "execute_result"
    }
   ],
   "source": [
    "# detect the objects in the provided image\n",
    "with open('uchicago.jpg', 'rb') as image:\n",
    "    response = rekog.detect_labels(Image={'Bytes': image.read()})\n",
    "    \n",
    "[(label['Name'], label['Confidence']) for label in response['Labels']][:5]"
   ]
  },
  {
   "cell_type": "code",
   "execution_count": 4,
   "id": "23c9abac",
   "metadata": {},
   "outputs": [
    {
     "data": {
      "text/plain": [
       "14"
      ]
     },
     "execution_count": 4,
     "metadata": {},
     "output_type": "execute_result"
    }
   ],
   "source": [
    "# Can also count number of instances of each label: e.g. \"Person\" - label 0\n",
    "len(response['Labels'][0]['Instances']) "
   ]
  },
  {
   "cell_type": "markdown",
   "id": "7ae40030",
   "metadata": {},
   "source": [
    "We can use rekognition to detect text in images as well:"
   ]
  },
  {
   "cell_type": "code",
   "execution_count": 5,
   "id": "a42b3e38",
   "metadata": {},
   "outputs": [],
   "source": [
    "with open('uchicago_sign.jpg', 'rb') as image:\n",
    "    response = rekog.detect_text(Image={'Bytes': image.read()})"
   ]
  },
  {
   "cell_type": "code",
   "execution_count": 6,
   "id": "c44468f8",
   "metadata": {},
   "outputs": [
    {
     "name": "stdout",
     "output_type": "stream",
     "text": [
      "Detected text:Vita\n",
      "Confidence: 81.73%\n",
      "Detected text:FCA\n",
      "Confidence: 37.99%\n",
      "Detected text:COLO\n",
      "Confidence: 13.49%\n",
      "Detected text:caria\n",
      "Confidence: 31.49%\n",
      "Detected text:latur\n",
      "Confidence: 37.75%\n",
      "Detected text:THE UNIVERSITY OF\n",
      "Confidence: 99.62%\n",
      "Detected text:CHICAGO\n",
      "Confidence: 99.58%\n"
     ]
    }
   ],
   "source": [
    "for text in response['TextDetections']:\n",
    "    if text['Type'] == 'LINE':\n",
    "        print ('Detected text:' + text['DetectedText'])\n",
    "        print ('Confidence: ' + \"{:.2f}\".format(text['Confidence']) + \"%\")"
   ]
  },
  {
   "cell_type": "markdown",
   "id": "4a060762",
   "metadata": {},
   "source": [
    "If you have custom workflows, Rekognition might not be the best option, but for many general applications, this will likely handle everything that you need to do and is really easy to use.\n",
    "\n",
    "We can also perform common NLP tasks like detecting the sentiment of a text via AWS Comprehend:"
   ]
  },
  {
   "cell_type": "code",
   "execution_count": 7,
   "id": "1f426c32",
   "metadata": {},
   "outputs": [
    {
     "name": "stdout",
     "output_type": "stream",
     "text": [
      "POSITIVE {'Positive': 0.9994707703590393, 'Negative': 4.922328662360087e-05, 'Neutral': 0.00045435165520757437, 'Mixed': 2.5665714929345995e-05}\n"
     ]
    }
   ],
   "source": [
    "comprehend = boto3.client('comprehend')\n",
    "\n",
    "response = comprehend.detect_sentiment(Text='This class is fun!',\n",
    "                                       LanguageCode='en')\n",
    "\n",
    "print(response['Sentiment'], response['SentimentScore'])"
   ]
  },
  {
   "cell_type": "markdown",
   "id": "e57fadc9",
   "metadata": {},
   "source": [
    "...and perform quick translations from one language (here, automatically detected) into another one (French) on command with AWS Translate:"
   ]
  },
  {
   "cell_type": "code",
   "execution_count": 8,
   "id": "c2b33e2a",
   "metadata": {},
   "outputs": [
    {
     "data": {
      "text/plain": [
       "\"Bonjour, je m'appelle Jon\""
      ]
     },
     "execution_count": 8,
     "metadata": {},
     "output_type": "execute_result"
    }
   ],
   "source": [
    "translate = boto3.client('translate')\n",
    "\n",
    "response = translate.translate_text(Text='Hello, my name is Jon',\n",
    "                                    SourceLanguageCode='auto',\n",
    "                                    TargetLanguageCode='fr')\n",
    "response['TranslatedText']"
   ]
  },
  {
   "cell_type": "markdown",
   "id": "8eab878d",
   "metadata": {},
   "source": [
    "You will have a chance to practice using more of these serverless tools in the DataCamp course that we've assigned as one of the readings for Monday's class, but this should give you a taste of some of the functionality that is available to you right out of the box.\n",
    "\n",
    "----\n",
    "\n",
    "**AWS Lambda Functions**\n",
    "\n",
    "We can also create our own custom serverless functions as well, though, via AWS Lambda... \n",
    "\n",
    "*Go to AWS Console and create/deploy sample Lambda function (called `hello_world`):*\n",
    "\n",
    "```python\n",
    "def lambda_handler(event, context):\n",
    "    # test: {'key1': 1, 'key2': 2}\n",
    "    total = event['key1'] + event['key2']\n",
    "    return total\n",
    "```\n",
    "\n",
    "Can write code of arbitrary complexity in here, assuming it's going to be a relatively quick operation (e.g. less than 300s)..."
   ]
  },
  {
   "cell_type": "code",
   "execution_count": 9,
   "id": "9c906cdb",
   "metadata": {},
   "outputs": [
    {
     "data": {
      "text/plain": [
       "3"
      ]
     },
     "execution_count": 9,
     "metadata": {},
     "output_type": "execute_result"
    }
   ],
   "source": [
    "aws_lambda = boto3.client('lambda')\n",
    "\n",
    "test_data = {'key1': 1, 'key2': 2}\n",
    "\n",
    "# run synchronously:\n",
    "r = aws_lambda.invoke(FunctionName='hello_world',\n",
    "                      InvocationType='RequestResponse',\n",
    "                      Payload=json.dumps(test_data))\n",
    "json.loads(r['Payload'].read()) # print out response"
   ]
  },
  {
   "cell_type": "markdown",
   "id": "f05afb8b",
   "metadata": {},
   "source": [
    "Currently still running all of this code serially, though. Real advantage of\n",
    "Lambda is that it scales automatically to meet concurrent demand, meaning\n",
    "that it will automatically parallelize based on how many concurrent invocations\n",
    "it receives:"
   ]
  },
  {
   "cell_type": "code",
   "execution_count": 10,
   "id": "6fb04957",
   "metadata": {},
   "outputs": [
    {
     "data": {
      "text/plain": [
       "[3, 3, 3, 3]"
      ]
     },
     "execution_count": 10,
     "metadata": {},
     "output_type": "execute_result"
    }
   ],
   "source": [
    "# 1. write function to invoke our function for us and pass in data:\n",
    "def invoke_function(data):\n",
    "    r = aws_lambda.invoke(FunctionName='hello_world',\n",
    "                       InvocationType='RequestResponse',\n",
    "                       Payload=json.dumps(data))\n",
    "    return json.loads(r['Payload'].read())\n",
    "\n",
    "# 2. Demo that lambda function will scale out if called concurrently on different threads locally\n",
    "with ThreadPoolExecutor(max_workers=4) as executor:\n",
    "    results = executor.map(invoke_function, [test_data for _ in range(4)])\n",
    "\n",
    "# 3. In AWS Console: confirm that we had four concurrent executions (takes a few seconds to update)\n",
    "# Same results too:\n",
    "[result for result in results]"
   ]
  },
  {
   "cell_type": "markdown",
   "id": "f52465c0",
   "metadata": {},
   "source": [
    "Ideally, we should be able to scale out to as many available Lambda workers as possible (i.e. thousands of concurrent function invocations on different segments of a dataset -- a serverless domain decomposition) and not be limited by our local resources, though. \n",
    "\n",
    "This is a where AWS [Step Functions](https://docs.aws.amazon.com/step-functions/latest/dg/welcome.html) can be very useful -- orchestrating large, embarrassingly parallel code execution across many Lambda workers with very little code (all we need to do is specify a graphical model for how our Lambda Function should be invoked!). Specifically, we'll be using the [\"map\" state](https://docs.aws.amazon.com/step-functions/latest/dg/tutorial-creating-map-state-machine.html) to scatter input data to multiple Lambda workers at the same time and selecting the [express workflow Step Function option](https://docs.aws.amazon.com/step-functions/latest/dg/concepts-standard-vs-express.html) to a run our short job synchronously.\n",
    "\n",
    "(Demonstrate how to incorporate Lambda Function into Step Function workflow via graphical model in console)."
   ]
  },
  {
   "cell_type": "code",
   "execution_count": 11,
   "id": "74d449d6",
   "metadata": {},
   "outputs": [
    {
     "name": "stdout",
     "output_type": "stream",
     "text": [
      "{'stateMachines': [{'stateMachineArn': 'arn:aws:states:us-east-1:459674479721:stateMachine:hello_world_sm', 'name': 'hello_world_sm', 'type': 'EXPRESS', 'creationDate': datetime.datetime(2022, 4, 17, 11, 49, 51, 254000, tzinfo=tzlocal())}, {'stateMachineArn': 'arn:aws:states:us-east-1:459674479721:stateMachine:word_count_sm', 'name': 'word_count_sm', 'type': 'EXPRESS', 'creationDate': datetime.datetime(2022, 4, 17, 17, 14, 23, 159000, tzinfo=tzlocal())}], 'ResponseMetadata': {'RequestId': '488f15bb-8862-4751-95b6-fd975b686636', 'HTTPStatusCode': 200, 'HTTPHeaders': {'x-amzn-requestid': '488f15bb-8862-4751-95b6-fd975b686636', 'date': 'Mon, 18 Apr 2022 18:51:16 GMT', 'content-type': 'application/x-amz-json-1.0', 'content-length': '339'}, 'RetryAttempts': 0}}\n"
     ]
    }
   ],
   "source": [
    "sfn = boto3.client('stepfunctions')\n",
    "response = sfn.list_state_machines()\n",
    "print(response)"
   ]
  },
  {
   "cell_type": "code",
   "execution_count": 12,
   "id": "30d11ea4",
   "metadata": {},
   "outputs": [],
   "source": [
    "# Get arn for Step Function state machine\n",
    "state_machine_arn = [sm['stateMachineArn'] \n",
    "                     for sm in response['stateMachines'] \n",
    "                     if sm['name'] == 'hello_world_sm'][0]\n",
    "\n",
    "# generate test data to pass as input\n",
    "# \"Map\" will automatically invoke a separate Lambda function\n",
    "# to process each dictionary in the list (10 concurrently)\n",
    "data = [{\"key1\": 1, \"key2\": 2} for _ in range(10)]"
   ]
  },
  {
   "cell_type": "markdown",
   "id": "0991d1d2",
   "metadata": {},
   "source": [
    "Once we have the identifier (ARN) for our Step Function state machine, we can pass in input data in JSON format. We have two options for execution -- synchronous execution (e.g. our notebook will wait for a response from AWS before moving on to the next cell), and asynchronous execution (which we might want to use if our Lambda functions were writing results to a cloud database and we don't need to wait for execution to finish before moving on with our code)."
   ]
  },
  {
   "cell_type": "code",
   "execution_count": 13,
   "id": "3e398718",
   "metadata": {},
   "outputs": [
    {
     "name": "stdout",
     "output_type": "stream",
     "text": [
      "[\"3\",\"3\",\"3\",\"3\",\"3\",\"3\",\"3\",\"3\",\"3\",\"3\"]\n"
     ]
    }
   ],
   "source": [
    "# Synchronous Execution\n",
    "response = sfn.start_sync_execution(\n",
    "    stateMachineArn=state_machine_arn,\n",
    "    name='sync_test',\n",
    "    input=json.dumps(data)\n",
    ")\n",
    "\n",
    "print(response['output'])"
   ]
  },
  {
   "cell_type": "code",
   "execution_count": 14,
   "id": "73297b3c",
   "metadata": {},
   "outputs": [
    {
     "name": "stdout",
     "output_type": "stream",
     "text": [
      "{'executionArn': 'arn:aws:states:us-east-1:459674479721:express:hello_world_sm:async_test:85d421a1-dee9-49aa-b55a-f5ef305d59f9', 'startDate': datetime.datetime(2022, 4, 18, 13, 51, 16, 760000, tzinfo=tzlocal()), 'ResponseMetadata': {'RequestId': '021e7925-cf81-4efb-a43f-ae168c6d48d9', 'HTTPStatusCode': 200, 'HTTPHeaders': {'x-amzn-requestid': '021e7925-cf81-4efb-a43f-ae168c6d48d9', 'date': 'Mon, 18 Apr 2022 18:51:16 GMT', 'content-type': 'application/x-amz-json-1.0', 'content-length': '155'}, 'RetryAttempts': 0}}\n"
     ]
    }
   ],
   "source": [
    "# Async; perhaps writing results to db and don't need to wait for execution to finish before moving on with code\n",
    "response = sfn.start_execution(\n",
    "    stateMachineArn=state_machine_arn,\n",
    "    name='async_test',\n",
    "    input=json.dumps(data)\n",
    ")\n",
    "\n",
    "print(response) # no results returned for async option\n",
    "# Can go into logs in Cloud Watch and see execution results (Express SF workflow)\n",
    "# Note that Standard Step Function workflow allows us to audit results via Boto3)"
   ]
  },
  {
   "cell_type": "markdown",
   "id": "d5aa98d5",
   "metadata": {},
   "source": [
    "## Using AWS Lambda to make HTTP Requests in Parallel\n",
    "\n",
    "A common task for computational social scientists is making HTTP requests to access and process web data. It can be quite limiting to make these requests serially, though. When we do, the amount of data we are able to collect is limited both by our internet bandwidth and machine's ability to sequentially process the data.\n",
    "\n",
    "It would be much better to parallelize this workflow. Here, we'll take a look at how we could do this in a serverless fashion using the same workflow as above (Mapping Data to Lambda Functions via Step Functions). Specifically, we will call the [Google Books API](https://developers.google.com/books/docs/v1/getting_started) in parallel on a list of ISBNs (one API call can be constructed [like this](https://www.googleapis.com/books/v1/volumes?q=isbn:1906523371)), calculating the number of words used in the description for each book in our ISBN list (see workflow below). Word count is a simple metric (used here as a proof-of-concept), but it would also be possible to perform other Natural Language Processing routines using this same approach. Such a cloud workflow allows us to gather and process far greater amounts of data than would be otherwise possible on our local machines.\n",
    "\n",
    "![AWS Serverless Workflow](serverless_workflow.png)\n",
    "\n",
    "First, we'll need to load in a list of ISBNs (provided in this directory):"
   ]
  },
  {
   "cell_type": "code",
   "execution_count": 15,
   "id": "63dbd7e1",
   "metadata": {},
   "outputs": [],
   "source": [
    "with open('isbn.txt') as file:\n",
    "    isbn_list = [isbn.strip() for isbn in file]"
   ]
  },
  {
   "cell_type": "markdown",
   "id": "30b0f62a",
   "metadata": {},
   "source": [
    "Then, we can write a function that will take in a list of ISBNs and compute the the number of words in the description of the corresponding book:"
   ]
  },
  {
   "cell_type": "code",
   "execution_count": 16,
   "id": "6a1feec3",
   "metadata": {},
   "outputs": [],
   "source": [
    "def get_desc_wc(isbn_list):\n",
    "    '''\n",
    "    Takes in a list of ISBNs and returns a list of description\n",
    "    word counts corresponding to each ISBN (via the Google\n",
    "    Books API).\n",
    "    '''\n",
    "    url = \"https://www.googleapis.com/books/v1/volumes?q=isbn:\"\n",
    "    wc_list = []\n",
    "    for isbn in isbn_list:\n",
    "        r = requests.get(url + isbn)\n",
    "        data = r.json()\n",
    "        # Try to get description, but if there is none, set\n",
    "        # word count to be 0 for that book\n",
    "        try:\n",
    "            description = data['items'][0]['volumeInfo']['description']\n",
    "            wc_list.append(len(description.split()))\n",
    "        except KeyError:\n",
    "            wc_list.append(0)\n",
    "    return wc_list"
   ]
  },
  {
   "cell_type": "markdown",
   "id": "e1588f3c",
   "metadata": {},
   "source": [
    "We can then call our function and it will sequentially request information and calculate the description word count for each one of our ISBNs in the list:"
   ]
  },
  {
   "cell_type": "code",
   "execution_count": 17,
   "id": "cf44ae56",
   "metadata": {},
   "outputs": [
    {
     "name": "stdout",
     "output_type": "stream",
     "text": [
      "Time elapsed (in seconds) - Serial:  113.97650289535522\n"
     ]
    },
    {
     "data": {
      "image/png": "[encoded data removed]",
      "text/plain": [
       "<Figure size 432x288 with 1 Axes>"
      ]
     },
     "metadata": {
      "needs_background": "light"
     },
     "output_type": "display_data"
    }
   ],
   "source": [
    "start = time.time()\n",
    "wc_list = get_desc_wc(isbn_list)\n",
    "time_elapsed = time.time() - start\n",
    "\n",
    "print(\"Time elapsed (in seconds) - Serial: \", time_elapsed)\n",
    "\n",
    "plt.hist(wc_list);"
   ]
  },
  {
   "cell_type": "markdown",
   "id": "d891c1e6",
   "metadata": {},
   "source": [
    "This is a bit slow (exactly how slow will be variable and heavily based on your internet connection!), though, and could benefit from parallelization. One way we can do this in a \"serverless\" fashion is by using AWS Step Functions to invoke many AWS Lambda functions to make these ISBN API calls (and calculate the description word count) in parallel. \n",
    "\n",
    "In a personal AWS account, you can make up to [3000 concurrent Lambda invocations in an initial burst, scaling by an additional 500 instances each minute that your code runs (until your account's concurrency limit is reached)](https://docs.aws.amazon.com/lambda/latest/dg/invocation-scaling.html). Note, though, that we're limited in our AWS Academy accounts to making up to 10 concurrent Lambda invocations. As a result, we won't be able to see the same scalability as we would see in a personal account (it'll be up to ~300x slower!), but you can at least get the idea of how this pipeline can be constructed.\n",
    "\n",
    "To make this work, we'll do the same thing we did above in our \"Hello World\" case -- using Step Functions to invoke multiple Lambda functions in parallel and then return the output of the executions synchronously to our local machine. \n",
    "\n",
    "For our Lambda function, we can write a `lambda_handler` that uses our API request function above like so (to be run on mini-batches of the overall isbn list):\n",
    "\n",
    "```python\n",
    "import requests\n",
    "\n",
    "def get_desc_wc(isbn_list):\n",
    "    '''\n",
    "    Takes in a list of ISBNs and returns a list of description\n",
    "    word counts corresponding to each ISBN (via the Google\n",
    "    Books API).\n",
    "    '''\n",
    "    url = \"https://www.googleapis.com/books/v1/volumes?q=isbn:\"\n",
    "\n",
    "    wc_list = []\n",
    "    for isbn in isbn_list:\n",
    "        r = requests.get(url + isbn)\n",
    "        data = r.json()\n",
    "        # Try to get description, but if there is none, set\n",
    "        # word count to be 0 for that book\n",
    "        try:\n",
    "            description = data['items'][0]['volumeInfo']['description']\n",
    "            wc_list.append(len(description.split()))\n",
    "        except KeyError:\n",
    "            wc_list.append(0)\n",
    "    return wc_list\n",
    "\n",
    "def lambda_handler(event, context):\n",
    "    wc = get_desc_wc(event['isbn'])\n",
    "    return wc\n",
    "```\n",
    "\n",
    "The only tricky thing with running this particular code as a Lambda function is that we are importing in the `requests` module in order to make HTTP requests. Such dependencies are not included by default in Lambda's Python runtimes.\n",
    "\n",
    "In order to work with dependencies, we'll need to package our Lambda Function with all of its dependencies (which you can do manually [like so](https://docs.aws.amazon.com/lambda/latest/dg/python-package.html#python-package-create-package-with-dependency) or by adding a [predefined \"layer\" defined by a 3rd-party](https://api.klayers.cloud//api/v2/p3.9/layers/latest/us-east-1/html) via its ARN in the Lambda dashboard). \n",
    "\n",
    "Using the manual workflow linked above, we have included a zipped version of the Lambda function (with its dependencies) in this directory (`word_count.zip`) that you can upload and use (**walk through directory structure live in class**). You'll need to do the same if you want to provide added functionality to your Lambda functions (e.g. `BeautifulSoup` for web-scraping, `numpy` or `pandas` for analytical workflows, etc.). We'll also need to increase our lambda timeout so that we have enough time for our program to run to perform longer running jobs (the default is a 3s timeout).\n",
    "\n",
    "Let's use `boto3` this time to create our Lambda Function from our zipped `word_count.zip` (to demonstrate that we can do this programmatically as well as in the console as we did earlier):"
   ]
  },
  {
   "cell_type": "code",
   "execution_count": 18,
   "id": "290b271f",
   "metadata": {},
   "outputs": [],
   "source": [
    "# Access our class IAM role, which allows Lambda\n",
    "# to interact with other AWS resources\n",
    "iam_client = boto3.client('iam')\n",
    "role = iam_client.get_role(RoleName='LabRole')\n",
    "\n",
    "# Open our Zipped directory\n",
    "with open('word_count.zip', 'rb') as f:\n",
    "    lambda_zip = f.read()\n",
    "\n",
    "try:\n",
    "    # If function hasn't yet been created, create it\n",
    "    response = aws_lambda.create_function(\n",
    "        FunctionName='word_count',\n",
    "        Runtime='python3.9',\n",
    "        Role=role['Role']['Arn'],\n",
    "        Handler='word_count.lambda_handler',\n",
    "        Code=dict(ZipFile=lambda_zip),\n",
    "        Timeout=300\n",
    "    )\n",
    "except aws_lambda.exceptions.ResourceConflictException:\n",
    "    # If function already exists, update it based on zip\n",
    "    # file contents\n",
    "    response = aws_lambda.update_function_code(\n",
    "    FunctionName='word_count',\n",
    "    ZipFile=lambda_zip\n",
    "    )"
   ]
  },
  {
   "cell_type": "markdown",
   "id": "59521be0",
   "metadata": {},
   "source": [
    "Once we have our function, we can incorporate it into a Step Function state machine, like we did in our Hello World example (show in console).\n",
    "\n",
    "Once our Step Function is set, we're ready to provide data that will be spread across our Lambda worker invocations. Remember, we can only perform 10 concurrent invocations in AWS Academy, so we need to subdivide our list of ISBNs into 10 equal batches:"
   ]
  },
  {
   "cell_type": "code",
   "execution_count": 19,
   "id": "5f883865",
   "metadata": {},
   "outputs": [],
   "source": [
    "n = 500 // 10 # subdivide list of ISBNs into 10 equal batches\n",
    "isbn_batches = [{'isbn': isbn_list[i:i + n]} for i in range(0, len(isbn_list), n)]"
   ]
  },
  {
   "cell_type": "code",
   "execution_count": 20,
   "id": "a326b834",
   "metadata": {},
   "outputs": [
    {
     "name": "stdout",
     "output_type": "stream",
     "text": [
      "10 50\n"
     ]
    }
   ],
   "source": [
    "# 10 lists of 50 ISBNs\n",
    "print(len(isbn_batches), len(isbn_batches[0]['isbn']))"
   ]
  },
  {
   "cell_type": "markdown",
   "id": "0c2c522a",
   "metadata": {},
   "source": [
    "Now, let's get our Step Function state machine arn and pass in our data:"
   ]
  },
  {
   "cell_type": "code",
   "execution_count": 21,
   "id": "a1b568fb",
   "metadata": {},
   "outputs": [],
   "source": [
    "# Get arn for Step Function state machine\n",
    "response = sfn.list_state_machines()\n",
    "state_machine_arn = [sm['stateMachineArn'] \n",
    "                     for sm in response['stateMachines'] \n",
    "                     if sm['name'] == 'word_count_sm'][0]"
   ]
  },
  {
   "cell_type": "code",
   "execution_count": 22,
   "id": "accd5994",
   "metadata": {},
   "outputs": [],
   "source": [
    "# Spread ISBN batches across Lambda workers\n",
    "start = time.time()\n",
    "response = sfn.start_sync_execution(\n",
    "    stateMachineArn=state_machine_arn,\n",
    "    name='isbn_500',\n",
    "    input=json.dumps(isbn_batches)\n",
    ")\n",
    "time_elapsed = time.time() - start"
   ]
  },
  {
   "cell_type": "code",
   "execution_count": 23,
   "id": "ac88d799",
   "metadata": {},
   "outputs": [
    {
     "name": "stdout",
     "output_type": "stream",
     "text": [
      "20.963962078094482\n"
     ]
    }
   ],
   "source": [
    "print(time_elapsed)"
   ]
  },
  {
   "cell_type": "markdown",
   "id": "4cbfd241",
   "metadata": {},
   "source": [
    "This is ~5x faster than the serial solution (meaning we can gather more data in the same amount of time, re: Gustafson's Law!). If we ran this same code on larger sets of ISBNs in a personal account, we would expect our compute time to remain similar, so long as we stay beneath the 3000 concurrent Lambda invocation maximum. You can also see that our parallel solution produces a similar distribution of word counts as the serial solution (with slight differences as a result of our permissive try/except logic):"
   ]
  },
  {
   "cell_type": "code",
   "execution_count": 24,
   "id": "ee1aa168",
   "metadata": {},
   "outputs": [
    {
     "data": {
      "image/png": "[encoded data removed]",
      "text/plain": [
       "<Figure size 432x288 with 1 Axes>"
      ]
     },
     "metadata": {
      "needs_background": "light"
     },
     "output_type": "display_data"
    }
   ],
   "source": [
    "output = json.loads(response['output'])\n",
    "plt.hist([num for sublist in output for num in sublist]);"
   ]
  },
  {
   "cell_type": "markdown",
   "id": "127f041a",
   "metadata": {},
   "source": [
    "So, we can quickly parallelize workflows in a serverless fashion using a combination of AWS Lambda and Step Functions. You can also create even more complicated workflows in Step Functions involving functional decomposition, multiple layers of Lambda function invocations, and more.\n",
    "\n",
    "One thing to note with the workflow above is that the payload size for inputs and outputs is not infinite (Step Functions will only accept inputs and outputs of size [262 KB or less](https://docs.aws.amazon.com/step-functions/latest/dg/avoid-exec-failures.html)). So, if you are working with really big inputs and/or outputs, you will want to input data from AWS cloud databases/distributed storage systems (e.g. providing the keys to the data you're referencing in the input JSON) and output data to a database/storage system within your Lambda function invocation as well. We'll talk more about how you can work with cloud databases (which allow you to make many concurrent reads and writes) next week to enable this increased scalability."
   ]
  }
 ],
 "metadata": {
  "kernelspec": {
   "display_name": "Python 3 (ipykernel)",
   "language": "python",
   "name": "python3"
  },
  "language_info": {
   "codemirror_mode": {
    "name": "ipython",
    "version": 3
   },
   "file_extension": ".py",
   "mimetype": "text/x-python",
   "name": "python",
   "nbconvert_exporter": "python",
   "pygments_lexer": "ipython3",
   "version": "3.9.7"
  }
 },
 "nbformat": 4,
 "nbformat_minor": 5
}
